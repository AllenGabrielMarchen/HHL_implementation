{
 "cells": [
  {
   "cell_type": "markdown",
   "metadata": {},
   "source": [
    "<span style = \"font-size:250%\">\n",
    "<center> Implementation of HHL Algorithm </center>\n",
    "</span>\n",
    "\n",
    "<center>\n",
    "    <img src=\"https://qiskit.org/textbook/ch-applications/images/hhlcircuit.png\" width = \"50%\" height = \"50%\">\n",
    "    </center>\n"
   ]
  },
  {
   "cell_type": "markdown",
   "metadata": {},
   "source": [
    "<span style = \"font-size:150%\">\n",
    "1. QPE 파트에 대한 구현 \n",
    "</span>\n",
    "\n",
    "<center>\n",
    "    <img src=\"https://qiskit.org/textbook/ch-algorithms/images/qpe_tex_qz.png\" width = \"50%\" height = \"50%\">\n",
    "    </center>"
   ]
  },
  {
   "cell_type": "code",
   "execution_count": null,
   "metadata": {},
   "outputs": [],
   "source": [
    "#QPE에 필요한 패키지 불러오기\n",
    "import qiskit\n",
    "from scipy.linalg import expm \n",
    "#scipy.linalg : 선형대수적 계산을 위한 패키지 \n",
    "#https://docs.scipy.org/doc/scipy/reference/linalg.html\n",
    "import numpy as np\n",
    "from qiskit import QuantumCircuit, QuantumRegister, ClassicalRegister\n",
    "from qiskit.quantum_info.operators import Operator\n",
    "from qiskit.extensions import UnitaryGate\n",
    "from qiskit.circuit.add_control import add_control\n",
    "from qiskit import IBMQ, Aer, transpile, assemble\n",
    "from qiskit.visualization import plot_histogram\n",
    "\n",
    "#for eigenvalue inversion\n",
    "import numpy as np\n",
    "from qiskit import QuantumCircuit, QuantumRegister\n",
    "from qiskit.circuit.library.arithmetic.piecewise_chebyshev import PiecewiseChebyshev\n",
    "from qiskit import IBMQ, Aer, transpile, assemble"
   ]
  },
  {
   "cell_type": "code",
   "execution_count": 342,
   "metadata": {},
   "outputs": [],
   "source": [
    "#참고 논문 :Low Complexity Quantum Matrix Inversion A기gorithm for non-Hermitian Matrices\n",
    "#위 논문에서 제시한 상태와 CU gate를 입력하는 단계 \n",
    "\n",
    "A_origin = np.array([[2,-1],[1,4]]) #non-Hermitian인 경우의 행렬에 대한 저장\n",
    "A = np.vstack((np.hstack((np.zeros_like(A_origin),A_origin)),np.hstack((A_origin.T, np.zeros_like(A_origin))))) # Hermitian의 꼴로 바꿈\n",
    "#A의 shape와 동일한 zero array를 생성하고, A_origin의 왼쪽에 배치, horizontal 방향도 마찬가지.\n",
    "#A = np.matrix(A) \n",
    "b = np.array([1,1]) \n",
    "i = complex(0,1) #complex(real part, imaginary part)\n",
    "t = np.pi*2/16\n",
    "U = expm(i*A*t) #여기서 A가 행렬로 주어졌기 때문에, 행렬을 exp에 올리기 위해서는 expm이라는 scipy 패키지가 필요함.\n",
    "#U = np.matrix(U)\n",
    "\n",
    "U_gate = UnitaryGate(U) #위에서 구성한 U라는 행렬로써 Unitary gate를 구성할 수 있음. (4*4) 행렬\n",
    "CU = add_control(U_gate,1,ctrl_state=None, label=\"CU\") \n",
    "#CU라는 게이트 이름을 label에 저장\n",
    "#control 되는 경우의 state를 지정 -> 해당사항 없음\n",
    "#두번째 인자는 컨트롤 큐빗의 개수를 지정함.\n",
    "\n",
    "n_l = 3 #QPE 상에서 n_ㅣ는 하다마드로 초기화 되는 부분 \n",
    "#n_b = 2 #QPE 상에서 n_b는 psi에 해당하는 파트\n",
    "n_b = int(np.log2(U.shape[0])) \n",
    "#Ax =b의 꼴이고, b는 4*1의 shape이므로, A의 행의 개수와 동일함. 따라서, U의 행렬의 행의 개수와 동일함.\n",
    "#행의 개수에 log2를 취하면 필요한 n_b의 값을 구할 수 있음.\n",
    "\n",
    "delta = 1/16*(2**(n_l-1))\n",
    "\n",
    "\n",
    "backend = Aer.get_backend('aer_simulator')\n",
    "shots = 2048"
   ]
  },
  {
   "cell_type": "code",
   "execution_count": 343,
   "metadata": {},
   "outputs": [],
   "source": [
    "def qft_dagger(n_l):\n",
    "    \"\"\"n-qubit QFTdagger the first n qubits in circ\"\"\"\n",
    "    nl_rg = QuantumRegister(n_l, \"l\")\n",
    "    qc = QuantumCircuit(nl_rg)\n",
    "    # Don't forget the Swaps!\n",
    "    #QFT의 역연산은 곧 QFT_dagger임을 기억하자.\n",
    "\n",
    "    #Swap gate 걸어주기 (qiskit에서는 큐빗을 반대로 읽기 때문.)\n",
    "    for qubit in range(n_l//2):\n",
    "        qc.swap(qubit, n_l-qubit-1)\n",
    "    for j in range(n_l):\n",
    "        for m in range(j):\n",
    "                qc.cp(-np.pi/float(2**(j-m)), m, j)\n",
    "                \n",
    "        qc.h(j)\n",
    "    qc.name = \"QFT†\"\n",
    "    #display(qc.draw(output = 'mpl'))\n",
    "    return qc"
   ]
  },
  {
   "cell_type": "code",
   "execution_count": 344,
   "metadata": {},
   "outputs": [],
   "source": [
    "def QPE(n_l,n_b,CU):\n",
    "    #circuit initialization for HHL\n",
    "    nl_rg = QuantumRegister(n_l, \"l\")\n",
    "    nb_rg = QuantumRegister(n_b, \"b\")\n",
    "    #QuantumRegister(size=None, name=None, bits=None) \n",
    "    qc = QuantumCircuit(nl_rg,nb_rg)\n",
    "    #display(qc.draw(output = 'mpl'))\n",
    "    qc.h(nl_rg)\n",
    "    qc.barrier(nl_rg[:]+nb_rg[:])\n",
    "    for l in range(n_l):\n",
    "        for power in range(2**(l)):\n",
    "            qc.append(CU, [nl_rg[l],nb_rg[0],nb_rg[1]]) \n",
    "            #첫번째 큐비트는 2^0번, 이후 2^n꼴로 돌아가게 설계됨.\n",
    "            #https://qiskit.org/documentation/stubs/qiskit.circuit.ControlledGate.html append의 예제.\n",
    "            #즉, append의 첫번째 인자는 gate, 두번쨰 인자의 첫번째 요소는 control qubit, 이후 인자의 요소는 target qubit.\n",
    "\n",
    "    qc.barrier(nl_rg[:]+nb_rg[:])\n",
    "    qc += qft_dagger(n_l)\n",
    "    qc.barrier(nl_rg[:]+nb_rg[:])\n",
    "    qc.name = \"QPE\"\n",
    "    return qc"
   ]
  },
  {
   "cell_type": "code",
   "execution_count": 345,
   "metadata": {},
   "outputs": [],
   "source": [
    "def QPE_dagger(n_l,n_b,CU):\n",
    "    qc = QPE(n_l,n_b,CU)\n",
    "    qc = qc.inverse() \n",
    "    #print(qc)\n",
    "    qc.name = 'QPE†'\n",
    "    #display(qc.draw(output='mpl'))\n",
    "    return qc"
   ]
  },
  {
   "cell_type": "code",
   "execution_count": 346,
   "metadata": {},
   "outputs": [],
   "source": [
    "from qiskit.circuit.library.arithmetic.exact_reciprocal import ExactReciprocal\n",
    "\n",
    "def Eigenvalue_inversion(n_l,chevyshev = False):\n",
    "\n",
    "    if chevyshev == True:\n",
    "        print(\"Maybe using Chevyshev approximation is not accurate.\")\n",
    "        #Using Chebychev Approx. (not recommended!)\n",
    "        nl_rg = QuantumRegister(n_l, \"l\")\n",
    "        na_rg = QuantumRegister(n_l, \"a\")\n",
    "        nf_rg = QuantumRegister(1, \"f\")\n",
    "        qc = QuantumCircuit(nl_rg, na_rg, nf_rg)\n",
    "\n",
    "        f_x, degree, breakpoints, num_state_qubits = lambda x: np.arcsin(1 / x), 2, [1,2,3,4], n_l\n",
    "        #degree : 함수를 polynomial로 근사할 떄, 최고차항 정의\n",
    "        #breakpoints는 구간을 나누는 느낌. : 근사를 할 떄, 다항식을 어떤 구간에서 나눠서 사용할 지\n",
    "        #l : eigenvalue를 표현\n",
    "        #f : rotation\n",
    "        #a : ancila\n",
    "        pw_approximation = PiecewiseChebyshev(f_x, degree, breakpoints, num_state_qubits)\n",
    "        pw_approximation._build()\n",
    "        qc.append(pw_approximation,nl_rg[:]+[nf_rg[0]]+na_rg[:]) #range(nl*2+1))\n",
    "        qc.name = 'Chevyshev_inversion'\n",
    "\n",
    "        return qc\n",
    "\n",
    "    else:\n",
    "        qc = ExactReciprocal(n_l, delta, neg_vals = True)\n",
    "        qc.name = 'Reciprocal_inversion'\n",
    "        return qc\n"
   ]
  },
  {
   "cell_type": "code",
   "execution_count": 347,
   "metadata": {},
   "outputs": [],
   "source": [
    "def measurement(qc,n_l,n_b,CU,backend):\n",
    "    \n",
    "    qc.barrier(nf_rg[:]+nl_rg[:]+nb_rg[:])\n",
    "    qc.measure(nf_rg,cf)\n",
    "    qc.measure(nb_rg,cb)\n",
    "    \n",
    "    t = transpile(qc, backend)\n",
    "    qobj = assemble(t, shots=shots)\n",
    "    results = backend.run(qobj).result()\n",
    "    answer = results.get_counts()\n",
    "    print(answer)\n",
    "    display(plot_histogram(answer, title=\"Output Histogram\"))\n"
   ]
  },
  {
   "cell_type": "code",
   "execution_count": 348,
   "metadata": {},
   "outputs": [],
   "source": [
    "def seqential(CU,b,n_l,n_b,backend,details = True,chevyshev = False):\n",
    "    \n",
    "    #circuit initialization\n",
    "    n_f = 1\n",
    "    nb = int(np.log2(b.shape))\n",
    "    nl_rg = QuantumRegister(n_l, \"l\")\n",
    "    nb_rg = QuantumRegister(n_b, \"b\")\n",
    "    na_rg = QuantumRegister(n_l, \"a\")\n",
    "    nf_rg = QuantumRegister(n_f, \"f\")\n",
    "    \n",
    "    cf = ClassicalRegister(n_f, \"classical_f\")\n",
    "    cb = ClassicalRegister(n_b, \"classical_b\")\n",
    "\n",
    "    qc = QuantumCircuit(nf_rg,nl_rg, nb_rg, na_rg, cf, cb)\n",
    "    qc.h(nb_rg[0])\n",
    "    qc.barrier(nf_rg,nl_rg,nb_rg)\n",
    "\n",
    "    \n",
    "    if details == True:\n",
    "        qc = qc.compose(QPE(n_l,n_b,CU),nl_rg[:]+nb_rg[:]) \n",
    "        qc = qc.compose(Eigenvalue_inversion(n_l,chevyshev),[nl_rg[2]]+[nl_rg[1]]+[nl_rg[0]]+nf_rg[:])\n",
    "        qc = qc.compose(QPE_dagger(n_l,n_b,CU),nl_rg[:]+nb_rg[:])\n",
    "        measurement(qc,n_l,n_b,CU,backend)\n",
    "        display(qc.draw(output = 'mpl'))\n",
    "        return qc\n",
    "\n",
    "    else:\n",
    "        qc.append(QPE(n_l,n_b,CU),nl_rg[:]+nb_rg[:])\n",
    "        qc.append(Eigenvalue_inversion(n_l,chevyshev),[nl_rg[2]]+[nl_rg[1]]+[nl_rg[0]]+nf_rg[:])\n",
    "        qc.append(QPE_dagger(n_l,n_b,CU),nl_rg[:]+nb_rg[:])\n",
    "        measurement(qc,n_l,n_b,CU,backend)\n",
    "        display(qc.draw(output = 'mpl'))\n",
    "        return qc"
   ]
  },
  {
   "cell_type": "code",
   "execution_count": 351,
   "metadata": {},
   "outputs": [
    {
     "name": "stderr",
     "output_type": "stream",
     "text": [
      "/opt/conda/lib/python3.7/site-packages/ipykernel_launcher.py:18: DeprecationWarning: The QuantumCircuit.__iadd__() method is being deprecated. Use the compose() (potentially with the inplace=True argument) and tensor() methods which are more flexible w.r.t circuit register compatibility.\n"
     ]
    },
    {
     "name": "stdout",
     "output_type": "stream",
     "text": [
      "{'01 0': 713, '00 1': 370, '10 1': 319, '11 0': 16, '10 0': 337, '11 1': 24, '00 0': 211, '01 1': 58}\n"
     ]
    },
    {
     "data": {
      "image/png": "[encoded data removed]",
      "text/plain": [
       "<Figure size 504x360 with 1 Axes>"
      ]
     },
     "metadata": {},
     "output_type": "display_data"
    },
    {
     "data": {
      "image/png": "[encoded data removed]",
      "text/plain": [
       "<Figure size 954.426x686.28 with 1 Axes>"
      ]
     },
     "metadata": {},
     "output_type": "display_data"
    },
    {
     "data": {
      "text/plain": [
       "<qiskit.circuit.quantumcircuit.QuantumCircuit at 0x7f06c21ed550>"
      ]
     },
     "execution_count": 351,
     "metadata": {},
     "output_type": "execute_result"
    }
   ],
   "source": [
    "seqential(CU,b,n_l,n_b,backend,details = False)"
   ]
  },
  {
   "cell_type": "code",
   "execution_count": null,
   "metadata": {},
   "outputs": [],
   "source": []
  }
 ],
 "metadata": {
  "kernelspec": {
   "display_name": "Python 3 (ipykernel)",
   "language": "python",
   "name": "python3"
  },
  "language_info": {
   "codemirror_mode": {
    "name": "ipython",
    "version": 3
   },
   "file_extension": ".py",
   "mimetype": "text/x-python",
   "name": "python",
   "nbconvert_exporter": "python",
   "pygments_lexer": "ipython3",
   "version": "3.7.13"
  },
  "vscode": {
   "interpreter": {
    "hash": "25a19fbe0a9132dfb9279d48d161753c6352f8f9478c2e74383d340069b907c3"
   }
  }
 },
 "nbformat": 4,
 "nbformat_minor": 4
}
