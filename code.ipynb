{
 "cells": [
  {
   "cell_type": "markdown",
   "metadata": {},
   "source": [
    "<span style = \"font-size:250%\">\n",
    "<center> Implementation of HHL Algorithm </center>\n",
    "</span>\n",
    "\n",
    "<center>\n",
    "    <img src=\"https://qiskit.org/textbook/ch-applications/images/hhlcircuit.png\" width = \"50%\" height = \"50%\">\n",
    "    </center>\n"
   ]
  },
  {
   "cell_type": "markdown",
   "metadata": {},
   "source": [
    "<span style = \"font-size:150%\">\n",
    "1. QPE 파트에 대한 구현 \n",
    "</span>\n",
    "\n",
    "<center>\n",
    "    <img src=\"https://qiskit.org/textbook/ch-algorithms/images/qpe_tex_qz.png\" width = \"50%\" height = \"50%\">\n",
    "    </center>"
   ]
  },
  {
   "cell_type": "code",
   "execution_count": 198,
   "metadata": {},
   "outputs": [],
   "source": [
    "#QPE에 필요한 패키지 불러오기\n",
    "import qiskit\n",
    "from scipy.linalg import expm \n",
    "#scipy.linalg : 선형대수적 계산을 위한 패키지 \n",
    "#https://docs.scipy.org/doc/scipy/reference/linalg.html\n",
    "import numpy as np\n",
    "from qiskit import QuantumCircuit, QuantumRegister, ClassicalRegister\n",
    "from qiskit.quantum_info.operators import Operator\n",
    "from qiskit.extensions import UnitaryGate\n",
    "from qiskit.circuit.add_control import add_control\n",
    "from qiskit import IBMQ, Aer, transpile, assemble\n",
    "from qiskit.visualization import plot_histogram\n",
    "\n",
    "#for eigenvalue inversion\n",
    "import numpy as np\n",
    "from qiskit import QuantumCircuit, QuantumRegister\n",
    "from qiskit.circuit.library.arithmetic.piecewise_chebyshev import PiecewiseChebyshev\n",
    "from qiskit import IBMQ, Aer, transpile, assemble"
   ]
  },
  {
   "cell_type": "code",
   "execution_count": 119,
   "metadata": {},
   "outputs": [],
   "source": [
    "#참고 논문 :Low Complexity Quantum Matrix Inversion A기gorithm for non-Hermitian Matrices\n",
    "#위 논문에서 제시한 상태와 CU gate를 입력하는 단계 \n",
    "\n",
    "A_origin = np.array([[2,-1],[1,4]]) #non-Hermitian인 경우의 행렬에 대한 저장\n",
    "A = np.vstack((np.hstack((np.zeros_like(A_origin),A_origin)),np.hstack((A_origin.T, np.zeros_like(A_origin))))) # Hermitian의 꼴로 바꿈\n",
    "#A의 shape와 동일한 zero array를 생성하고, A_origin의 왼쪽에 배치, horizontal 방향도 마찬가지.\n",
    "#A = np.matrix(A) \n",
    "b = np.array([1,1]) \n",
    "i = complex(0,1) #complex(real part, imaginary part)\n",
    "t = np.pi*2/16\n",
    "U = expm(i*A*t) #여기서 A가 행렬로 주어졌기 때문에, 행렬을 exp에 올리기 위해서는 expm이라는 scipy 패키지가 필요함.\n",
    "#U = np.matrix(U)\n",
    "\n",
    "U_gate = UnitaryGate(U) #위에서 구성한 U라는 행렬로써 Unitary gate를 구성할 수 있음. (4*4) 행렬\n",
    "CU = add_control(U_gate,1,ctrl_state=None, label=\"CU\") \n",
    "#CU라는 게이트 이름을 label에 저장\n",
    "#control 되는 경우의 state를 지정 -> 해당사항 없음\n",
    "#두번째 인자는 컨트롤 큐빗의 개수를 지정함.\n",
    "\n",
    "n_l = 3 #QPE 상에서 n_ㅣ는 하다마드로 초기화 되는 부분 \n",
    "#n_b = 2 #QPE 상에서 n_b는 psi에 해당하는 파트\n",
    "n_b = int(np.log2(U.shape[0])) \n",
    "#Ax =b의 꼴이고, b는 4*1의 shape이므로, A의 행의 개수와 동일함. 따라서, U의 행렬의 행의 개수와 동일함.\n",
    "#행의 개수에 log2를 취하면 필요한 n_b의 값을 구할 수 있음.\n",
    "\n",
    "backend = Aer.get_backend('aer_simulator')\n",
    "shots = 2048"
   ]
  },
  {
   "cell_type": "code",
   "execution_count": 203,
   "metadata": {},
   "outputs": [],
   "source": [
    "def circuit(CU, b, n_l, n_f = 1):\n",
    "    nb = int(np.log2(b.shape))\n",
    "    nl_rg = QuantumRegister(n_l, \"l\")\n",
    "    nb_rg = QuantumRegister(n_b, \"b\")\n",
    "    na_rg = QuantumRegister(n_l, \"a\")\n",
    "    nf_rg = QuantumRegister(n_f, \"f\")\n",
    "    cf = ClassicalRegister(n_f)\n",
    "    cb = ClassicalRegister(n_b)\n",
    "    qc = QuantumCircuit(nf_rg,nl_rg, na_rg, nb_rg, cf, cb)\n",
    "    return qc"
   ]
  },
  {
   "cell_type": "code",
   "execution_count": 182,
   "metadata": {},
   "outputs": [],
   "source": [
    "def qft_dagger(n):\n",
    "    \"\"\"n-qubit QFTdagger the first n qubits in circ\"\"\"\n",
    "    qc = QuantumCircuit(n)\n",
    "    # Don't forget the Swaps!\n",
    "    #QFT의 역연산은 곧 QFT_dagger임을 기억하자.\n",
    "\n",
    "    #Swap gate 걸어주기 (qiskit에서는 큐빗을 반대로 읽기 때문.)\n",
    "    for qubit in range(n//2):\n",
    "        qc.swap(qubit, n-qubit-1)\n",
    "    for j in range(n):\n",
    "        for m in range(j):\n",
    "                qc.cp(-np.pi/float(2**(j-m)), m, j)\n",
    "                qc.inverse()\n",
    "                \n",
    "        qc.h(j)\n",
    "    qc.name = \"QFT†\"\n",
    "    #display(qc.draw(output = 'mpl'))\n",
    "    return qc"
   ]
  },
  {
   "cell_type": "code",
   "execution_count": 216,
   "metadata": {},
   "outputs": [],
   "source": [
    "def QPE(n_l,n_b,CU):\n",
    "    #circuit initialization for HHL\n",
    "    nl_rg = QuantumRegister(n_l, \"l\")\n",
    "    nb_rg = QuantumRegister(n_b, \"b\")\n",
    "    #QuantumRegister(size=None, name=None, bits=None) \n",
    "    qc = QuantumCircuit(nl_rg,nb_rg)\n",
    "    qc.name = \"QPE\"\n",
    "    #display(qc.draw(output = 'mpl'))\n",
    "\n",
    "    for l in range(n_l):\n",
    "        qc.h(nl_rg[l]) #n_1 register에 하다마드 게이트를 모두 걸어줌\n",
    "        for power in range(2**(l)):\n",
    "            qc.append(CU, [nl_rg[l],nb_rg[0],nb_rg[1]]) \n",
    "            #첫번째 큐비트는 2^0번, 이후 2^n꼴로 돌아가게 설계됨.\n",
    "            #https://qiskit.org/documentation/stubs/qiskit.circuit.ControlledGate.html append의 예제.\n",
    "            #즉, append의 첫번째 인자는 gate, 두번쨰 인자의 첫번째 요소는 control qubit, 이후 인자의 요소는 target qubit.\n",
    "    qc.barrier()\n",
    "    qc.append(qft_dagger(n_l), range(n_l)) \n",
    "        #append안에 들어간 qft_dagger라는 함수가 반환하는 qc라는 회로에 이름을 지정하면 간단히 이름으로 표기 가능\n",
    "    qc.barrier()\n",
    "    #qc.measure(nl_rg,classical_rg)\n",
    "    #display(qc.draw(output = 'mpl'))\n",
    "    # qc2 = qc.inverse()\n",
    "    # display(qc2.draw(output = 'mpl'))\n",
    "    return qc"
   ]
  },
  {
   "cell_type": "code",
   "execution_count": 219,
   "metadata": {},
   "outputs": [
    {
     "name": "stderr",
     "output_type": "stream",
     "text": [
      "/opt/conda/lib/python3.7/site-packages/ipykernel_launcher.py:5: DeprecationWarning: The QuantumCircuit.__add__() method is being deprecated.Use the compose() method which is more flexible w.r.t circuit register compatibility.\n",
      "  \"\"\"\n"
     ]
    },
    {
     "data": {
      "image/png": "[encoded data removed]",
      "text/plain": [
       "<Figure size 1254.77x686.28 with 1 Axes>"
      ]
     },
     "metadata": {},
     "output_type": "display_data"
    }
   ],
   "source": [
    "qc_0 = circuit(CU, b, n_l, n_f = 1)\n",
    "#display(qc_0.draw(output = 'mpl'))\n",
    "qc_1 = QPE(n_l,n_b,CU)\n",
    "#display(qc_1.draw(output = 'mpl'))\n",
    "qc = qc_0 + qc_1\n",
    "display(qc.draw(output = 'mpl'))\n",
    "#qc_2 = qc_0.append(QPE(n_l,n_b,CU),[1,2,3,7,8])\n",
    "#print(qc_2)\n",
    "#display(qc_2.draw(output = 'mpl'))\n"
   ]
  },
  {
   "cell_type": "code",
   "execution_count": 192,
   "metadata": {},
   "outputs": [],
   "source": [
    "def QPE_dagger(n_l,n_b,CU):\n",
    "    qc = QPE(n_l,n_b,CU)\n",
    "    qc = qc.inverse()\n",
    "    qc.name = 'QPE†'\n",
    "    display(qc.draw(output='mpl'))\n",
    "    return qc"
   ]
  },
  {
   "cell_type": "code",
   "execution_count": 196,
   "metadata": {},
   "outputs": [],
   "source": [
    "def Eigenvalue_inversion(qc,nl):\n",
    "\n",
    "    f_x, degree, breakpoints, num_state_qubits = lambda x: np.arcsin(1 / x), 2, [1,2,3,4], nl\n",
    "    #degree : 함수를 polynomial로 근사할 떄, 최고차항 정의\n",
    "    #breakpoints는 구간을 나누는 느낌. : 근사를 할 떄, 다항식을 어떤 구간에서 나눠서 사용할 지\n",
    "    #l : eigenvalue를 표현\n",
    "    #f : rotation\n",
    "    #a : ancila\n",
    "    pw_approximation = PiecewiseChebyshev(f_x, degree, breakpoints, num_state_qubits)\n",
    "    pw_approximation._build()\n",
    "    qc.append(pw_approximation,range(nl*2+1))\n",
    "\n",
    "    return qc"
   ]
  },
  {
   "cell_type": "code",
   "execution_count": 197,
   "metadata": {},
   "outputs": [
    {
     "name": "stdout",
     "output_type": "stream",
     "text": [
      "     ┌──────────┐\n",
      "l_0: ┤0         ├\n",
      "     │          │\n",
      "l_1: ┤1         ├\n",
      "     │          │\n",
      "l_2: ┤2         ├\n",
      "     │          │\n",
      "a_0: ┤3 pw_cheb ├\n",
      "     │          │\n",
      "a_1: ┤4         ├\n",
      "     │          │\n",
      "a_2: ┤5         ├\n",
      "     │          │\n",
      "  f: ┤6         ├\n",
      "     └──────────┘\n"
     ]
    }
   ],
   "source": [
    "qc = Eigenvalue_inversion(n_l)\n",
    "print(qc)"
   ]
  },
  {
   "cell_type": "code",
   "execution_count": 129,
   "metadata": {},
   "outputs": [
    {
     "ename": "QiskitError",
     "evalue": "'No counts for experiment \"0\"'",
     "output_type": "error",
     "traceback": [
      "\u001b[0;31m---------------------------------------------------------------------------\u001b[0m",
      "\u001b[0;31mQiskitError\u001b[0m                               Traceback (most recent call last)",
      "\u001b[0;32m/tmp/ipykernel_5898/3540225103.py\u001b[0m in \u001b[0;36m<module>\u001b[0;34m\u001b[0m\n\u001b[1;32m      2\u001b[0m \u001b[0mqobj\u001b[0m \u001b[0;34m=\u001b[0m \u001b[0massemble\u001b[0m\u001b[0;34m(\u001b[0m\u001b[0mt_qpe\u001b[0m\u001b[0;34m,\u001b[0m \u001b[0mshots\u001b[0m\u001b[0;34m=\u001b[0m\u001b[0mshots\u001b[0m\u001b[0;34m)\u001b[0m\u001b[0;34m\u001b[0m\u001b[0;34m\u001b[0m\u001b[0m\n\u001b[1;32m      3\u001b[0m \u001b[0mresults\u001b[0m \u001b[0;34m=\u001b[0m \u001b[0maer_sim\u001b[0m\u001b[0;34m.\u001b[0m\u001b[0mrun\u001b[0m\u001b[0;34m(\u001b[0m\u001b[0mqobj\u001b[0m\u001b[0;34m)\u001b[0m\u001b[0;34m.\u001b[0m\u001b[0mresult\u001b[0m\u001b[0;34m(\u001b[0m\u001b[0;34m)\u001b[0m\u001b[0;34m\u001b[0m\u001b[0;34m\u001b[0m\u001b[0m\n\u001b[0;32m----> 4\u001b[0;31m \u001b[0manswer\u001b[0m \u001b[0;34m=\u001b[0m \u001b[0mresults\u001b[0m\u001b[0;34m.\u001b[0m\u001b[0mget_counts\u001b[0m\u001b[0;34m(\u001b[0m\u001b[0;34m)\u001b[0m\u001b[0;34m\u001b[0m\u001b[0;34m\u001b[0m\u001b[0m\n\u001b[0m\u001b[1;32m      5\u001b[0m \u001b[0;31m#print(answer)\u001b[0m\u001b[0;34m\u001b[0m\u001b[0;34m\u001b[0m\u001b[0;34m\u001b[0m\u001b[0m\n\u001b[1;32m      6\u001b[0m \u001b[0mplot_histogram\u001b[0m\u001b[0;34m(\u001b[0m\u001b[0manswer\u001b[0m\u001b[0;34m,\u001b[0m \u001b[0mtitle\u001b[0m\u001b[0;34m=\u001b[0m\u001b[0;34m\"New Histogram\"\u001b[0m\u001b[0;34m)\u001b[0m\u001b[0;34m\u001b[0m\u001b[0;34m\u001b[0m\u001b[0m\n",
      "\u001b[0;32m/opt/conda/lib/python3.7/site-packages/qiskit/result/result.py\u001b[0m in \u001b[0;36mget_counts\u001b[0;34m(self, experiment)\u001b[0m\n\u001b[1;32m    287\u001b[0m                 \u001b[0mdict_list\u001b[0m\u001b[0;34m.\u001b[0m\u001b[0mappend\u001b[0m\u001b[0;34m(\u001b[0m\u001b[0mstatevector\u001b[0m\u001b[0;34m.\u001b[0m\u001b[0mStatevector\u001b[0m\u001b[0;34m(\u001b[0m\u001b[0mvec\u001b[0m\u001b[0;34m)\u001b[0m\u001b[0;34m.\u001b[0m\u001b[0mprobabilities_dict\u001b[0m\u001b[0;34m(\u001b[0m\u001b[0mdecimals\u001b[0m\u001b[0;34m=\u001b[0m\u001b[0;36m15\u001b[0m\u001b[0;34m)\u001b[0m\u001b[0;34m)\u001b[0m\u001b[0;34m\u001b[0m\u001b[0;34m\u001b[0m\u001b[0m\n\u001b[1;32m    288\u001b[0m             \u001b[0;32melse\u001b[0m\u001b[0;34m:\u001b[0m\u001b[0;34m\u001b[0m\u001b[0;34m\u001b[0m\u001b[0m\n\u001b[0;32m--> 289\u001b[0;31m                 \u001b[0;32mraise\u001b[0m \u001b[0mQiskitError\u001b[0m\u001b[0;34m(\u001b[0m\u001b[0;34mf'No counts for experiment \"{repr(key)}\"'\u001b[0m\u001b[0;34m)\u001b[0m\u001b[0;34m\u001b[0m\u001b[0;34m\u001b[0m\u001b[0m\n\u001b[0m\u001b[1;32m    290\u001b[0m \u001b[0;34m\u001b[0m\u001b[0m\n\u001b[1;32m    291\u001b[0m         \u001b[0;31m# Return first item of dict_list if size is 1\u001b[0m\u001b[0;34m\u001b[0m\u001b[0;34m\u001b[0m\u001b[0;34m\u001b[0m\u001b[0m\n",
      "\u001b[0;31mQiskitError\u001b[0m: 'No counts for experiment \"0\"'"
     ]
    }
   ],
   "source": [
    "def measurement(n_l,n_b,CU,backend):\n",
    "    \n",
    "    \n",
    "    t = transpile(qc, backend)\n",
    "    qobj = assemble(t, shots=shots)\n",
    "    results = backend.run(qobj).result()\n",
    "    answer = results.get_counts()\n",
    "    #print(answer)\n",
    "    #plot_histogram(answer, title=\"New Histogram\")\n"
   ]
  }
 ],
 "metadata": {
  "kernelspec": {
   "display_name": "Python 3 (ipykernel)",
   "language": "python",
   "name": "python3"
  },
  "language_info": {
   "codemirror_mode": {
    "name": "ipython",
    "version": 3
   },
   "file_extension": ".py",
   "mimetype": "text/x-python",
   "name": "python",
   "nbconvert_exporter": "python",
   "pygments_lexer": "ipython3",
   "version": "3.7.13"
  },
  "vscode": {
   "interpreter": {
    "hash": "af3e253870e6bad33af33ce942b560beffdb0ee676577e46ad8632e381036a67"
   }
  }
 },
 "nbformat": 4,
 "nbformat_minor": 4
}
